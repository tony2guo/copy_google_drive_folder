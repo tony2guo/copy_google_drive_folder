{
  "nbformat": 4,
  "nbformat_minor": 0,
  "metadata": {
    "colab": {
      "name": "copy_google_drive_folder.ipynb",
      "provenance": [],
      "collapsed_sections": [],
      "authorship_tag": "ABX9TyN2A+U+YK3Y8OJluYd48Zfk"
    },
    "kernelspec": {
      "name": "python3",
      "display_name": "Python 3"
    }
  },
  "cells": [
    {
      "cell_type": "code",
      "metadata": {
        "id": "FsgeYy1mie3U",
        "colab_type": "code",
        "colab": {}
      },
      "source": [
        "%pip install -q ipyfilechooser\n",
        "from ipyfilechooser import FileChooser\n",
        "from ipywidgets import TwoByTwoLayout\n",
        "from google.colab import drive\n",
        "drive.mount('/content/drive')"
      ],
      "execution_count": null,
      "outputs": []
    },
    {
      "cell_type": "code",
      "metadata": {
        "id": "mRyAIwSNVNYH",
        "colab_type": "code",
        "colab": {}
      },
      "source": [
        "default_path = '/content/drive/My Drive'\n",
        "source = FileChooser(default_path, title='Source', use_dir_icons=True, show_only_dirs=True)\n",
        "destination = FileChooser(default_path, title='Destination', use_dir_icons=True, show_only_dirs=True)\n",
        "TwoByTwoLayout(top_left=source, top_right=destination)"
      ],
      "execution_count": null,
      "outputs": []
    },
    {
      "cell_type": "code",
      "metadata": {
        "id": "LFkpf8DMjlAz",
        "colab_type": "code",
        "cellView": "both",
        "colab": {}
      },
      "source": [
        "%cp --archive --update --verbose \"$source.selected_path/.\" \"$destination.selected_path\"\n",
        "print('Done')"
      ],
      "execution_count": null,
      "outputs": []
    }
  ]
}